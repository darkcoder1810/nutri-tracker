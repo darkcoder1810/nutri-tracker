{
 "cells": [
  {
   "cell_type": "code",
   "execution_count": null,
   "id": "2b6493f3",
   "metadata": {},
   "outputs": [],
   "source": [
    "!streamlit run main.py"
   ]
  },
  {
   "cell_type": "code",
   "execution_count": 5,
   "id": "80049900",
   "metadata": {},
   "outputs": [
    {
     "name": "stderr",
     "output_type": "stream",
     "text": [
      "\n",
      "A module that was compiled using NumPy 1.x cannot be run in\n",
      "NumPy 2.0.2 as it may crash. To support both 1.x and 2.x\n",
      "versions of NumPy, modules must be compiled with NumPy 2.0.\n",
      "Some module may need to rebuild instead e.g. with 'pybind11>=2.12'.\n",
      "\n",
      "If you are a user of the module, the easiest solution will be to\n",
      "downgrade to 'numpy<2' or try to upgrade the affected module.\n",
      "We expect that some modules will need time to support NumPy 2.\n",
      "\n",
      "Traceback (most recent call last):  File \"C:\\Users\\Dhiraj Bhatkar\\anaconda3\\lib\\runpy.py\", line 197, in _run_module_as_main\n",
      "    return _run_code(code, main_globals, None,\n",
      "  File \"C:\\Users\\Dhiraj Bhatkar\\anaconda3\\lib\\runpy.py\", line 87, in _run_code\n",
      "    exec(code, run_globals)\n",
      "  File \"C:\\Users\\Dhiraj Bhatkar\\anaconda3\\Scripts\\streamlit.exe\\__main__.py\", line 4, in <module>\n",
      "    from streamlit.web.cli import main\n",
      "  File \"C:\\Users\\Dhiraj Bhatkar\\anaconda3\\lib\\site-packages\\streamlit\\__init__.py\", line 70, in <module>\n",
      "    from streamlit.delta_generator import DeltaGenerator as _DeltaGenerator\n",
      "  File \"C:\\Users\\Dhiraj Bhatkar\\anaconda3\\lib\\site-packages\\streamlit\\delta_generator.py\", line 36, in <module>\n",
      "    from streamlit import cursor\n",
      "  File \"C:\\Users\\Dhiraj Bhatkar\\anaconda3\\lib\\site-packages\\streamlit\\cursor.py\", line 18, in <module>\n",
      "    from streamlit.runtime.scriptrunner import get_script_run_ctx\n",
      "  File \"C:\\Users\\Dhiraj Bhatkar\\anaconda3\\lib\\site-packages\\streamlit\\runtime\\scriptrunner\\__init__.py\", line 16, in <module>\n",
      "    from .script_runner import (\n",
      "  File \"C:\\Users\\Dhiraj Bhatkar\\anaconda3\\lib\\site-packages\\streamlit\\runtime\\scriptrunner\\script_runner.py\", line 34, in <module>\n",
      "    from streamlit.runtime.state import (\n",
      "  File \"C:\\Users\\Dhiraj Bhatkar\\anaconda3\\lib\\site-packages\\streamlit\\runtime\\state\\__init__.py\", line 16, in <module>\n",
      "    from .safe_session_state import SafeSessionState as SafeSessionState\n",
      "  File \"C:\\Users\\Dhiraj Bhatkar\\anaconda3\\lib\\site-packages\\streamlit\\runtime\\state\\safe_session_state.py\", line 21, in <module>\n",
      "    from .session_state import (\n",
      "  File \"C:\\Users\\Dhiraj Bhatkar\\anaconda3\\lib\\site-packages\\streamlit\\runtime\\state\\session_state.py\", line 44, in <module>\n",
      "    from streamlit.type_util import ValueFieldName\n",
      "  File \"C:\\Users\\Dhiraj Bhatkar\\anaconda3\\lib\\site-packages\\streamlit\\type_util.py\", line 45, in <module>\n",
      "    from pandas.api.types import infer_dtype\n",
      "  File \"C:\\Users\\Dhiraj Bhatkar\\anaconda3\\lib\\site-packages\\pandas\\__init__.py\", line 80, in <module>\n",
      "    from pandas.core.api import (\n",
      "  File \"C:\\Users\\Dhiraj Bhatkar\\anaconda3\\lib\\site-packages\\pandas\\core\\api.py\", line 28, in <module>\n",
      "    from pandas.core.arrays import Categorical\n",
      "  File \"C:\\Users\\Dhiraj Bhatkar\\anaconda3\\lib\\site-packages\\pandas\\core\\arrays\\__init__.py\", line 1, in <module>\n",
      "    from pandas.core.arrays.arrow import ArrowExtensionArray\n",
      "  File \"C:\\Users\\Dhiraj Bhatkar\\anaconda3\\lib\\site-packages\\pandas\\core\\arrays\\arrow\\__init__.py\", line 5, in <module>\n",
      "    from pandas.core.arrays.arrow.array import ArrowExtensionArray\n",
      "  File \"C:\\Users\\Dhiraj Bhatkar\\anaconda3\\lib\\site-packages\\pandas\\core\\arrays\\arrow\\array.py\", line 50, in <module>\n",
      "    from pandas.core import (\n",
      "  File \"C:\\Users\\Dhiraj Bhatkar\\anaconda3\\lib\\site-packages\\pandas\\core\\ops\\__init__.py\", line 8, in <module>\n",
      "    from pandas.core.ops.array_ops import (\n",
      "  File \"C:\\Users\\Dhiraj Bhatkar\\anaconda3\\lib\\site-packages\\pandas\\core\\ops\\array_ops.py\", line 56, in <module>\n",
      "    from pandas.core.computation import expressions\n",
      "  File \"C:\\Users\\Dhiraj Bhatkar\\anaconda3\\lib\\site-packages\\pandas\\core\\computation\\expressions.py\", line 21, in <module>\n",
      "    from pandas.core.computation.check import NUMEXPR_INSTALLED\n",
      "  File \"C:\\Users\\Dhiraj Bhatkar\\anaconda3\\lib\\site-packages\\pandas\\core\\computation\\check.py\", line 5, in <module>\n",
      "    ne = import_optional_dependency(\"numexpr\", errors=\"warn\")\n",
      "  File \"C:\\Users\\Dhiraj Bhatkar\\anaconda3\\lib\\site-packages\\pandas\\compat\\_optional.py\", line 135, in import_optional_dependency\n",
      "    module = importlib.import_module(name)\n",
      "  File \"C:\\Users\\Dhiraj Bhatkar\\anaconda3\\lib\\importlib\\__init__.py\", line 127, in import_module\n",
      "    return _bootstrap._gcd_import(name[level:], package, level)\n",
      "  File \"C:\\Users\\Dhiraj Bhatkar\\anaconda3\\lib\\site-packages\\numexpr\\__init__.py\", line 26, in <module>\n",
      "    from numexpr.interpreter import MAX_THREADS, use_vml, __BLOCK_SIZE1__\n",
      "AttributeError: _ARRAY_API not found\n",
      "\n",
      "A module that was compiled using NumPy 1.x cannot be run in\n",
      "NumPy 2.0.2 as it may crash. To support both 1.x and 2.x\n",
      "versions of NumPy, modules must be compiled with NumPy 2.0.\n",
      "Some module may need to rebuild instead e.g. with 'pybind11>=2.12'.\n",
      "\n",
      "If you are a user of the module, the easiest solution will be to\n",
      "downgrade to 'numpy<2' or try to upgrade the affected module.\n",
      "We expect that some modules will need time to support NumPy 2.\n",
      "\n",
      "Traceback (most recent call last):  File \"C:\\Users\\Dhiraj Bhatkar\\anaconda3\\lib\\runpy.py\", line 197, in _run_module_as_main\n",
      "    return _run_code(code, main_globals, None,\n",
      "  File \"C:\\Users\\Dhiraj Bhatkar\\anaconda3\\lib\\runpy.py\", line 87, in _run_code\n",
      "    exec(code, run_globals)\n",
      "  File \"C:\\Users\\Dhiraj Bhatkar\\anaconda3\\Scripts\\streamlit.exe\\__main__.py\", line 4, in <module>\n",
      "    from streamlit.web.cli import main\n",
      "  File \"C:\\Users\\Dhiraj Bhatkar\\anaconda3\\lib\\site-packages\\streamlit\\__init__.py\", line 70, in <module>\n",
      "    from streamlit.delta_generator import DeltaGenerator as _DeltaGenerator\n",
      "  File \"C:\\Users\\Dhiraj Bhatkar\\anaconda3\\lib\\site-packages\\streamlit\\delta_generator.py\", line 36, in <module>\n",
      "    from streamlit import cursor\n",
      "  File \"C:\\Users\\Dhiraj Bhatkar\\anaconda3\\lib\\site-packages\\streamlit\\cursor.py\", line 18, in <module>\n",
      "    from streamlit.runtime.scriptrunner import get_script_run_ctx\n",
      "  File \"C:\\Users\\Dhiraj Bhatkar\\anaconda3\\lib\\site-packages\\streamlit\\runtime\\scriptrunner\\__init__.py\", line 16, in <module>\n",
      "    from .script_runner import (\n",
      "  File \"C:\\Users\\Dhiraj Bhatkar\\anaconda3\\lib\\site-packages\\streamlit\\runtime\\scriptrunner\\script_runner.py\", line 34, in <module>\n",
      "    from streamlit.runtime.state import (\n",
      "  File \"C:\\Users\\Dhiraj Bhatkar\\anaconda3\\lib\\site-packages\\streamlit\\runtime\\state\\__init__.py\", line 16, in <module>\n",
      "    from .safe_session_state import SafeSessionState as SafeSessionState\n",
      "  File \"C:\\Users\\Dhiraj Bhatkar\\anaconda3\\lib\\site-packages\\streamlit\\runtime\\state\\safe_session_state.py\", line 21, in <module>\n",
      "    from .session_state import (\n",
      "  File \"C:\\Users\\Dhiraj Bhatkar\\anaconda3\\lib\\site-packages\\streamlit\\runtime\\state\\session_state.py\", line 44, in <module>\n",
      "    from streamlit.type_util import ValueFieldName\n",
      "  File \"C:\\Users\\Dhiraj Bhatkar\\anaconda3\\lib\\site-packages\\streamlit\\type_util.py\", line 45, in <module>\n",
      "    from pandas.api.types import infer_dtype\n",
      "  File \"C:\\Users\\Dhiraj Bhatkar\\anaconda3\\lib\\site-packages\\pandas\\__init__.py\", line 80, in <module>\n",
      "    from pandas.core.api import (\n",
      "  File \"C:\\Users\\Dhiraj Bhatkar\\anaconda3\\lib\\site-packages\\pandas\\core\\api.py\", line 28, in <module>\n",
      "    from pandas.core.arrays import Categorical\n",
      "  File \"C:\\Users\\Dhiraj Bhatkar\\anaconda3\\lib\\site-packages\\pandas\\core\\arrays\\__init__.py\", line 1, in <module>\n",
      "    from pandas.core.arrays.arrow import ArrowExtensionArray\n",
      "  File \"C:\\Users\\Dhiraj Bhatkar\\anaconda3\\lib\\site-packages\\pandas\\core\\arrays\\arrow\\__init__.py\", line 5, in <module>\n",
      "    from pandas.core.arrays.arrow.array import ArrowExtensionArray\n",
      "  File \"C:\\Users\\Dhiraj Bhatkar\\anaconda3\\lib\\site-packages\\pandas\\core\\arrays\\arrow\\array.py\", line 64, in <module>\n",
      "    from pandas.core.arrays.masked import BaseMaskedArray\n",
      "  File \"C:\\Users\\Dhiraj Bhatkar\\anaconda3\\lib\\site-packages\\pandas\\core\\arrays\\masked.py\", line 60, in <module>\n",
      "    from pandas.core import (\n",
      "  File \"C:\\Users\\Dhiraj Bhatkar\\anaconda3\\lib\\site-packages\\pandas\\core\\nanops.py\", line 52, in <module>\n",
      "    bn = import_optional_dependency(\"bottleneck\", errors=\"warn\")\n",
      "  File \"C:\\Users\\Dhiraj Bhatkar\\anaconda3\\lib\\site-packages\\pandas\\compat\\_optional.py\", line 135, in import_optional_dependency\n",
      "    module = importlib.import_module(name)\n",
      "  File \"C:\\Users\\Dhiraj Bhatkar\\anaconda3\\lib\\importlib\\__init__.py\", line 127, in import_module\n",
      "    return _bootstrap._gcd_import(name[level:], package, level)\n",
      "  File \"C:\\Users\\Dhiraj Bhatkar\\anaconda3\\lib\\site-packages\\bottleneck\\__init__.py\", line 2, in <module>\n",
      "    from .reduce import (\n",
      "AttributeError: _ARRAY_API not found\n",
      "\n",
      "A module that was compiled using NumPy 1.x cannot be run in\n",
      "NumPy 2.0.2 as it may crash. To support both 1.x and 2.x\n",
      "versions of NumPy, modules must be compiled with NumPy 2.0.\n",
      "Some module may need to rebuild instead e.g. with 'pybind11>=2.12'.\n",
      "\n",
      "If you are a user of the module, the easiest solution will be to\n",
      "downgrade to 'numpy<2' or try to upgrade the affected module.\n",
      "We expect that some modules will need time to support NumPy 2.\n",
      "\n",
      "Traceback (most recent call last):  File \"C:\\Users\\Dhiraj Bhatkar\\anaconda3\\lib\\runpy.py\", line 197, in _run_module_as_main\n",
      "    return _run_code(code, main_globals, None,\n",
      "  File \"C:\\Users\\Dhiraj Bhatkar\\anaconda3\\lib\\runpy.py\", line 87, in _run_code\n",
      "    exec(code, run_globals)\n",
      "  File \"C:\\Users\\Dhiraj Bhatkar\\anaconda3\\Scripts\\streamlit.exe\\__main__.py\", line 4, in <module>\n",
      "    from streamlit.web.cli import main\n",
      "  File \"C:\\Users\\Dhiraj Bhatkar\\anaconda3\\lib\\site-packages\\streamlit\\__init__.py\", line 70, in <module>\n",
      "    from streamlit.delta_generator import DeltaGenerator as _DeltaGenerator\n",
      "  File \"C:\\Users\\Dhiraj Bhatkar\\anaconda3\\lib\\site-packages\\streamlit\\delta_generator.py\", line 89, in <module>\n",
      "    from streamlit.elements.arrow import ArrowMixin\n",
      "  File \"C:\\Users\\Dhiraj Bhatkar\\anaconda3\\lib\\site-packages\\streamlit\\elements\\arrow.py\", line 21, in <module>\n",
      "    from pandas.io.formats.style import Styler\n",
      "  File \"C:\\Users\\Dhiraj Bhatkar\\anaconda3\\lib\\site-packages\\pandas\\io\\formats\\style.py\", line 85, in <module>\n",
      "    import matplotlib as mpl\n",
      "  File \"C:\\Users\\Dhiraj Bhatkar\\anaconda3\\lib\\site-packages\\matplotlib\\__init__.py\", line 107, in <module>\n",
      "    from . import _api, cbook, docstring, rcsetup\n",
      "  File \"C:\\Users\\Dhiraj Bhatkar\\anaconda3\\lib\\site-packages\\matplotlib\\rcsetup.py\", line 26, in <module>\n",
      "    from matplotlib.colors import Colormap, is_color_like\n",
      "  File \"C:\\Users\\Dhiraj Bhatkar\\anaconda3\\lib\\site-packages\\matplotlib\\colors.py\", line 82, in <module>\n",
      "    from matplotlib import _api, cbook, scale\n",
      "  File \"C:\\Users\\Dhiraj Bhatkar\\anaconda3\\lib\\site-packages\\matplotlib\\scale.py\", line 18, in <module>\n",
      "    from matplotlib.ticker import (\n",
      "  File \"C:\\Users\\Dhiraj Bhatkar\\anaconda3\\lib\\site-packages\\matplotlib\\ticker.py\", line 179, in <module>\n",
      "    from matplotlib import transforms as mtransforms\n",
      "  File \"C:\\Users\\Dhiraj Bhatkar\\anaconda3\\lib\\site-packages\\matplotlib\\transforms.py\", line 46, in <module>\n",
      "    from matplotlib._path import (\n",
      "AttributeError: _ARRAY_API not found\n",
      "\n",
      "A module that was compiled using NumPy 1.x cannot be run in\n",
      "NumPy 2.0.2 as it may crash. To support both 1.x and 2.x\n",
      "versions of NumPy, modules must be compiled with NumPy 2.0.\n",
      "Some module may need to rebuild instead e.g. with 'pybind11>=2.12'.\n",
      "\n",
      "If you are a user of the module, the easiest solution will be to\n",
      "downgrade to 'numpy<2' or try to upgrade the affected module.\n",
      "We expect that some modules will need time to support NumPy 2.\n",
      "\n",
      "Traceback (most recent call last):  File \"C:\\Users\\Dhiraj Bhatkar\\anaconda3\\lib\\runpy.py\", line 197, in _run_module_as_main\n",
      "    return _run_code(code, main_globals, None,\n",
      "  File \"C:\\Users\\Dhiraj Bhatkar\\anaconda3\\lib\\runpy.py\", line 87, in _run_code\n",
      "    exec(code, run_globals)\n",
      "  File \"C:\\Users\\Dhiraj Bhatkar\\anaconda3\\Scripts\\streamlit.exe\\__main__.py\", line 7, in <module>\n",
      "    sys.exit(main())\n",
      "  File \"C:\\Users\\Dhiraj Bhatkar\\anaconda3\\lib\\site-packages\\click\\core.py\", line 1128, in __call__\n",
      "    return self.main(*args, **kwargs)\n",
      "  File \"C:\\Users\\Dhiraj Bhatkar\\anaconda3\\lib\\site-packages\\click\\core.py\", line 1053, in main\n",
      "    rv = self.invoke(ctx)\n",
      "  File \"C:\\Users\\Dhiraj Bhatkar\\anaconda3\\lib\\site-packages\\click\\core.py\", line 1659, in invoke\n",
      "    return _process_result(sub_ctx.command.invoke(sub_ctx))\n",
      "  File \"C:\\Users\\Dhiraj Bhatkar\\anaconda3\\lib\\site-packages\\click\\core.py\", line 1395, in invoke\n",
      "    return ctx.invoke(self.callback, **ctx.params)\n",
      "  File \"C:\\Users\\Dhiraj Bhatkar\\anaconda3\\lib\\site-packages\\click\\core.py\", line 754, in invoke\n",
      "    return __callback(*args, **kwargs)\n",
      "  File \"C:\\Users\\Dhiraj Bhatkar\\anaconda3\\lib\\site-packages\\streamlit\\web\\cli.py\", line 205, in main_run\n",
      "    _main_run(target, args, flag_options=kwargs)\n",
      "  File \"C:\\Users\\Dhiraj Bhatkar\\anaconda3\\lib\\site-packages\\streamlit\\web\\cli.py\", line 240, in _main_run\n",
      "    bootstrap.run(file, command_line, args, flag_options)\n",
      "  File \"C:\\Users\\Dhiraj Bhatkar\\anaconda3\\lib\\site-packages\\streamlit\\web\\bootstrap.py\", line 355, in run\n",
      "    _fix_matplotlib_crash()\n",
      "  File \"C:\\Users\\Dhiraj Bhatkar\\anaconda3\\lib\\site-packages\\streamlit\\web\\bootstrap.py\", line 107, in _fix_matplotlib_crash\n",
      "    import matplotlib\n",
      "  File \"C:\\Users\\Dhiraj Bhatkar\\anaconda3\\lib\\site-packages\\matplotlib\\__init__.py\", line 107, in <module>\n",
      "    from . import _api, cbook, docstring, rcsetup\n",
      "  File \"C:\\Users\\Dhiraj Bhatkar\\anaconda3\\lib\\site-packages\\matplotlib\\rcsetup.py\", line 26, in <module>\n",
      "    from matplotlib.colors import Colormap, is_color_like\n",
      "  File \"C:\\Users\\Dhiraj Bhatkar\\anaconda3\\lib\\site-packages\\matplotlib\\colors.py\", line 82, in <module>\n",
      "    from matplotlib import _api, cbook, scale\n",
      "  File \"C:\\Users\\Dhiraj Bhatkar\\anaconda3\\lib\\site-packages\\matplotlib\\scale.py\", line 18, in <module>\n",
      "    from matplotlib.ticker import (\n",
      "  File \"C:\\Users\\Dhiraj Bhatkar\\anaconda3\\lib\\site-packages\\matplotlib\\ticker.py\", line 179, in <module>\n",
      "    from matplotlib import transforms as mtransforms\n",
      "  File \"C:\\Users\\Dhiraj Bhatkar\\anaconda3\\lib\\site-packages\\matplotlib\\transforms.py\", line 46, in <module>\n",
      "    from matplotlib._path import (\n",
      "AttributeError: _ARRAY_API not found\n",
      "2025-02-14 17:08:14.207 Port 8501 is already in use\n"
     ]
    }
   ],
   "source": [
    "!streamlit run main.py --server.port 8501"
   ]
  },
  {
   "cell_type": "code",
   "execution_count": null,
   "id": "e82be88f",
   "metadata": {},
   "outputs": [],
   "source": [
    "pip install -r requirements.txt"
   ]
  },
  {
   "cell_type": "code",
   "execution_count": 8,
   "id": "5e578b2c",
   "metadata": {},
   "outputs": [
    {
     "name": "stdout",
     "output_type": "stream",
     "text": [
      "Note: you may need to restart the kernel to use updated packages.\n"
     ]
    },
    {
     "name": "stderr",
     "output_type": "stream",
     "text": [
      "ERROR: Could not find a version that satisfies the requirement streamlit>=1.42.0 (from versions: 0.1, 0.2, 0.3, 0.4, 0.5, 0.6, 0.7, 0.8, 0.8.2, 0.9.0, 0.11.0, 0.12.2, 0.12.3, 0.12.4, 0.13.0, 0.13.1, 0.13.3, 0.13.5, 0.14.2, 0.15.0, 0.15.1, 0.15.2, 0.15.3, 0.15.4, 0.15.5, 0.15.6, 0.16.0, 0.16.1, 0.16.2, 0.16.3, 0.17.0, 0.17.1, 0.17.2, 0.18.0, 0.18.1, 0.19.0, 0.19.1, 0.20.0, 0.21.0, 0.22.0, 0.22.1, 0.22.2, 0.23.0, 0.24.0, 0.24.1, 0.24.2, 0.24.3, 0.25.0, 0.26.0, 0.26.1, 0.27.0, 0.28.0, 0.29.0, 0.30.0, 0.31.0, 0.32.0, 0.33.0, 0.34.0, 0.35.0, 0.36.0, 0.37.0, 0.40.0, 0.40.1, 0.41.0, 0.42.0, 0.43.0, 0.43.1, 0.43.2, 0.44.0, 0.45.0, 0.46.0, 0.47.0, 0.47.1, 0.47.2, 0.47.3, 0.47.4, 0.48.0, 0.48.1, 0.49.0, 0.50.0, 0.50.1, 0.50.2, 0.51.0, 0.52.0, 0.52.1, 0.52.2, 0.53.0, 0.54.0, 0.55.0, 0.56.0, 0.57.0, 0.57.1, 0.57.2, 0.57.3, 0.58.0, 0.59.0, 0.60.0, 0.61.0, 0.62.0, 0.62.1, 0.63.0, 0.63.1, 0.64.0, 0.65.0, 0.65.1, 0.65.2, 0.66.0, 0.67.0, 0.67.1, 0.68.0, 0.68.1, 0.69.0, 0.69.1, 0.69.2, 0.70.0, 0.71.0, 0.72.0, 0.73.0, 0.73.1, 0.74.0, 0.74.1, 0.75.0, 0.76.0, 0.77.0, 0.78.0, 0.79.0, 0.80.0, 0.81.0, 0.81.1, 0.82.0, 0.83.0, 0.84.0, 0.84.1, 0.84.2, 0.85.0, 0.85.1, 0.86.0, 0.87.0, 0.88.0, 0.89.0, 1.0.0, 1.1.0, 1.2.0, 1.3.0, 1.3.1, 1.4.0, 1.5.0, 1.5.1, 1.6.0rc3, 1.6.0rc4, 1.6.0, 1.7.0, 1.8.0rc1, 1.8.0, 1.8.1rc1, 1.8.1, 1.9.0rc1, 1.9.0, 1.9.1rc1, 1.9.1rc2, 1.9.1, 1.9.2rc1, 1.9.2, 1.10.0rc1, 1.10.0rc2, 1.10.0, 1.11.0rc1, 1.11.0, 1.11.1rc1, 1.11.1, 1.12.0rc1, 1.12.0rc2, 1.12.0)\n",
      "ERROR: No matching distribution found for streamlit>=1.42.0\n"
     ]
    }
   ],
   "source": [
    "pip install --upgrade \"streamlit>=1.42.0\"\n"
   ]
  },
  {
   "cell_type": "code",
   "execution_count": null,
   "id": "8e8c206b",
   "metadata": {},
   "outputs": [],
   "source": [
    "import streamlit as st\n",
    "print(st.__version__)\n"
   ]
  },
  {
   "cell_type": "code",
   "execution_count": 2,
   "id": "ca86ce69",
   "metadata": {},
   "outputs": [
    {
     "name": "stdout",
     "output_type": "stream",
     "text": [
      "Requirement already satisfied: pandas in c:\\users\\dhiraj bhatkar\\anaconda3\\lib\\site-packages (2.2.3)\n",
      "Requirement already satisfied: tzdata>=2022.7 in c:\\users\\dhiraj bhatkar\\anaconda3\\lib\\site-packages (from pandas) (2025.1)\n",
      "Requirement already satisfied: pytz>=2020.1 in c:\\users\\dhiraj bhatkar\\anaconda3\\lib\\site-packages (from pandas) (2025.1)\n",
      "Requirement already satisfied: python-dateutil>=2.8.2 in c:\\users\\dhiraj bhatkar\\anaconda3\\lib\\site-packages (from pandas) (2.8.2)\n",
      "Requirement already satisfied: numpy>=1.22.4 in c:\\users\\dhiraj bhatkar\\anaconda3\\lib\\site-packages (from pandas) (2.0.2)\n",
      "Requirement already satisfied: six>=1.5 in c:\\users\\dhiraj bhatkar\\anaconda3\\lib\\site-packages (from python-dateutil>=2.8.2->pandas) (1.16.0)\n",
      "Note: you may need to restart the kernel to use updated packages.\n"
     ]
    }
   ],
   "source": [
    "pip install --upgrade pandas"
   ]
  },
  {
   "cell_type": "code",
   "execution_count": 1,
   "id": "dc75f621",
   "metadata": {},
   "outputs": [
    {
     "name": "stdout",
     "output_type": "stream",
     "text": [
      "^C\n",
      "Note: you may need to restart the kernel to use updated packages.\n"
     ]
    }
   ],
   "source": [
    "pip uninstall pandas"
   ]
  },
  {
   "cell_type": "code",
   "execution_count": 4,
   "id": "2306ab15",
   "metadata": {},
   "outputs": [
    {
     "name": "stdout",
     "output_type": "stream",
     "text": [
      "Collecting pandas\n",
      "  Using cached pandas-2.2.3-cp39-cp39-win_amd64.whl (11.6 MB)\n",
      "Collecting numpy\n",
      "  Using cached numpy-2.0.2-cp39-cp39-win_amd64.whl (15.9 MB)\n",
      "Requirement already satisfied: pytz>=2020.1 in c:\\users\\dhiraj bhatkar\\anaconda3\\lib\\site-packages (from pandas) (2025.1)\n",
      "Requirement already satisfied: tzdata>=2022.7 in c:\\users\\dhiraj bhatkar\\anaconda3\\lib\\site-packages (from pandas) (2025.1)\n",
      "Requirement already satisfied: python-dateutil>=2.8.2 in c:\\users\\dhiraj bhatkar\\anaconda3\\lib\\site-packages (from pandas) (2.8.2)\n",
      "Requirement already satisfied: six>=1.5 in c:\\users\\dhiraj bhatkar\\anaconda3\\lib\\site-packages (from python-dateutil>=2.8.2->pandas) (1.16.0)\n",
      "Installing collected packages: numpy, pandas\n",
      "Note: you may need to restart the kernel to use updated packages.Successfully installed numpy-2.0.2 pandas-2.2.3\n",
      "\n"
     ]
    },
    {
     "name": "stderr",
     "output_type": "stream",
     "text": [
      "ERROR: pip's dependency resolver does not currently take into account all the packages that are installed. This behaviour is the source of the following dependency conflicts.\n",
      "daal4py 2021.3.0 requires daal==2021.2.3, which is not installed.\n",
      "scipy 1.7.1 requires numpy<1.23.0,>=1.16.5, but you have numpy 2.0.2 which is incompatible.\n",
      "numba 0.54.1 requires numpy<1.21,>=1.17, but you have numpy 2.0.2 which is incompatible.\n"
     ]
    }
   ],
   "source": [
    "pip install --upgrade pandas numpy"
   ]
  },
  {
   "cell_type": "code",
   "execution_count": 2,
   "id": "284302dd",
   "metadata": {},
   "outputs": [
    {
     "name": "stdout",
     "output_type": "stream",
     "text": [
      "Requirement already satisfied: jinja2 in c:\\users\\dhiraj bhatkar\\anaconda3\\lib\\site-packages (2.11.3)\n",
      "Collecting jinja2\n",
      "  Downloading jinja2-3.1.5-py3-none-any.whl (134 kB)\n",
      "Collecting MarkupSafe>=2.0\n",
      "  Downloading MarkupSafe-3.0.2-cp39-cp39-win_amd64.whl (15 kB)\n",
      "Installing collected packages: MarkupSafe, jinja2\n",
      "  Attempting uninstall: MarkupSafe\n",
      "    Found existing installation: MarkupSafe 1.1.1\n",
      "    Uninstalling MarkupSafe-1.1.1:\n",
      "      Successfully uninstalled MarkupSafe-1.1.1\n",
      "Note: you may need to restart the kernel to use updated packages.\n"
     ]
    },
    {
     "name": "stderr",
     "output_type": "stream",
     "text": [
      "ERROR: Could not install packages due to an OSError: [WinError 5] Access is denied: 'C:\\\\Users\\\\Dhiraj Bhatkar\\\\anaconda3\\\\Lib\\\\site-packages\\\\~arkupsafe\\\\_speedups.cp39-win_amd64.pyd'\n",
      "Consider using the `--user` option or check the permissions.\n",
      "\n"
     ]
    }
   ],
   "source": [
    "pip install --upgrade jinja2"
   ]
  },
  {
   "cell_type": "code",
   "execution_count": 1,
   "id": "860dcc41",
   "metadata": {},
   "outputs": [
    {
     "name": "stdout",
     "output_type": "stream",
     "text": [
      "Requirement already satisfied: jinja2 in c:\\users\\dhiraj bhatkar\\anaconda3\\lib\\site-packages (2.11.3)\n",
      "Collecting jinja2\n",
      "  Using cached jinja2-3.1.5-py3-none-any.whl (134 kB)\n",
      "Requirement already satisfied: MarkupSafe>=2.0 in c:\\users\\dhiraj bhatkar\\anaconda3\\lib\\site-packages (from jinja2) (3.0.2)\n",
      "Installing collected packages: jinja2\n",
      "Successfully installed jinja2-3.1.5\n",
      "Note: you may need to restart the kernel to use updated packages.\n"
     ]
    },
    {
     "name": "stderr",
     "output_type": "stream",
     "text": [
      "ERROR: pip's dependency resolver does not currently take into account all the packages that are installed. This behaviour is the source of the following dependency conflicts.\n",
      "anaconda-project 0.10.1 requires ruamel-yaml, which is not installed.\n",
      "cookiecutter 1.7.2 requires Jinja2<3.0.0, but you have jinja2 3.1.5 which is incompatible.\n",
      "cookiecutter 1.7.2 requires MarkupSafe<2.0.0, but you have markupsafe 3.0.2 which is incompatible.\n"
     ]
    }
   ],
   "source": [
    "pip install --upgrade jinja2 --user"
   ]
  },
  {
   "cell_type": "code",
   "execution_count": 2,
   "id": "07b283d8",
   "metadata": {},
   "outputs": [
    {
     "name": "stdout",
     "output_type": "stream",
     "text": [
      "Collecting numpy<1.22\n",
      "  Downloading numpy-1.21.6-cp39-cp39-win_amd64.whl (14.0 MB)\n",
      "Installing collected packages: numpy\n",
      "  Attempting uninstall: numpy\n",
      "    Found existing installation: numpy 2.0.2\n",
      "    Uninstalling numpy-2.0.2:\n",
      "      Successfully uninstalled numpy-2.0.2\n",
      "Successfully installed numpy-1.21.6\n",
      "Note: you may need to restart the kernel to use updated packages.\n"
     ]
    },
    {
     "name": "stderr",
     "output_type": "stream",
     "text": [
      "ERROR: pip's dependency resolver does not currently take into account all the packages that are installed. This behaviour is the source of the following dependency conflicts.\n",
      "daal4py 2021.3.0 requires daal==2021.2.3, which is not installed.\n",
      "pandas 2.2.3 requires numpy>=1.22.4; python_version < \"3.11\", but you have numpy 1.21.6 which is incompatible.\n",
      "numba 0.54.1 requires numpy<1.21,>=1.17, but you have numpy 1.21.6 which is incompatible.\n"
     ]
    }
   ],
   "source": [
    "pip install \"numpy<1.22\""
   ]
  },
  {
   "cell_type": "code",
   "execution_count": 3,
   "id": "91e24005",
   "metadata": {},
   "outputs": [
    {
     "name": "stdout",
     "output_type": "stream",
     "text": [
      "Requirement already satisfied: numpy<1.23 in c:\\users\\dhiraj bhatkar\\anaconda3\\lib\\site-packages (1.21.6)\n",
      "Note: you may need to restart the kernel to use updated packages.\n"
     ]
    }
   ],
   "source": [
    "pip install \"numpy<1.23\""
   ]
  },
  {
   "cell_type": "code",
   "execution_count": 1,
   "id": "649a9163",
   "metadata": {},
   "outputs": [
    {
     "name": "stdout",
     "output_type": "stream",
     "text": [
      "Found existing installation: pandas 2.2.3\n",
      "Uninstalling pandas-2.2.3:\n",
      "  Successfully uninstalled pandas-2.2.3\n",
      "Note: you may need to restart the kernel to use updated packages.\n"
     ]
    }
   ],
   "source": [
    "pip uninstall pandas -y"
   ]
  },
  {
   "cell_type": "code",
   "execution_count": 2,
   "id": "ea7e84e5",
   "metadata": {},
   "outputs": [
    {
     "name": "stdout",
     "output_type": "stream",
     "text": [
      "Collecting pandas\n",
      "  Downloading pandas-2.2.3-cp39-cp39-win_amd64.whl (11.6 MB)\n",
      "Collecting numpy>=1.22.4\n",
      "  Downloading numpy-2.0.2-cp39-cp39-win_amd64.whl (15.9 MB)\n",
      "Collecting pytz>=2020.1\n",
      "  Downloading pytz-2025.1-py2.py3-none-any.whl (507 kB)\n",
      "Collecting python-dateutil>=2.8.2\n",
      "  Downloading python_dateutil-2.9.0.post0-py2.py3-none-any.whl (229 kB)\n",
      "Collecting tzdata>=2022.7\n",
      "  Downloading tzdata-2025.1-py2.py3-none-any.whl (346 kB)\n",
      "Collecting six>=1.5\n",
      "  Downloading six-1.17.0-py2.py3-none-any.whl (11 kB)\n",
      "Installing collected packages: six, tzdata, pytz, python-dateutil, numpy, pandas\n",
      "  Attempting uninstall: six\n",
      "    Found existing installation: six 1.16.0\n",
      "    Uninstalling six-1.16.0:\n",
      "      Successfully uninstalled six-1.16.0\n",
      "  Attempting uninstall: tzdata\n",
      "    Found existing installation: tzdata 2025.1\n",
      "    Uninstalling tzdata-2025.1:\n",
      "      Successfully uninstalled tzdata-2025.1\n",
      "  Attempting uninstall: pytz\n",
      "    Found existing installation: pytz 2025.1\n",
      "    Uninstalling pytz-2025.1:\n",
      "      Successfully uninstalled pytz-2025.1\n",
      "  Attempting uninstall: python-dateutil\n",
      "    Found existing installation: python-dateutil 2.8.2\n",
      "    Uninstalling python-dateutil-2.8.2:\n",
      "      Successfully uninstalled python-dateutil-2.8.2\n",
      "  Attempting uninstall: numpy\n",
      "    Found existing installation: numpy 1.21.6\n",
      "    Uninstalling numpy-1.21.6:\n",
      "      Successfully uninstalled numpy-1.21.6\n",
      "Successfully installed numpy-2.0.2 pandas-2.2.3 python-dateutil-2.9.0.post0 pytz-2025.1 six-1.17.0 tzdata-2025.1\n",
      "Note: you may need to restart the kernel to use updated packages.\n"
     ]
    },
    {
     "name": "stderr",
     "output_type": "stream",
     "text": [
      "ERROR: pip's dependency resolver does not currently take into account all the packages that are installed. This behaviour is the source of the following dependency conflicts.\n",
      "daal4py 2021.3.0 requires daal==2021.2.3, which is not installed.\n",
      "conda-repo-cli 1.0.4 requires pathlib, which is not installed.\n",
      "scipy 1.7.1 requires numpy<1.23.0,>=1.16.5, but you have numpy 2.0.2 which is incompatible.\n",
      "numba 0.54.1 requires numpy<1.21,>=1.17, but you have numpy 2.0.2 which is incompatible.\n",
      "cookiecutter 1.7.2 requires Jinja2<3.0.0, but you have jinja2 3.1.5 which is incompatible.\n",
      "cookiecutter 1.7.2 requires MarkupSafe<2.0.0, but you have markupsafe 3.0.2 which is incompatible.\n"
     ]
    }
   ],
   "source": [
    "pip install --no-cache-dir --force-reinstall pandas"
   ]
  },
  {
   "cell_type": "code",
   "execution_count": 3,
   "id": "fe56a573",
   "metadata": {},
   "outputs": [
    {
     "name": "stdout",
     "output_type": "stream",
     "text": [
      "Requirement already satisfied: numpy in c:\\users\\dhiraj bhatkar\\anaconda3\\lib\\site-packages (2.0.2)\n",
      "Requirement already satisfied: cython in c:\\users\\dhiraj bhatkar\\anaconda3\\lib\\site-packages (0.29.24)\n",
      "Note: you may need to restart the kernel to use updated packages.\n"
     ]
    }
   ],
   "source": [
    "pip install numpy cython"
   ]
  },
  {
   "cell_type": "code",
   "execution_count": 3,
   "id": "495019f3",
   "metadata": {},
   "outputs": [
    {
     "name": "stdout",
     "output_type": "stream",
     "text": [
      "Collecting gspread>=6.1.4\n",
      "  Using cached gspread-6.1.4-py3-none-any.whl (57 kB)\n",
      "Collecting oauth2client>=4.1.3\n",
      "  Using cached oauth2client-4.1.3-py2.py3-none-any.whl (98 kB)\n",
      "Collecting plotly>=6.0.0\n",
      "  Using cached plotly-6.0.0-py3-none-any.whl (14.8 MB)\n",
      "Collecting psycopg2-binary>=2.9.10\n",
      "  Using cached psycopg2_binary-2.9.10-cp39-cp39-win_amd64.whl (1.2 MB)\n",
      "Collecting sqlalchemy>=2.0.38\n",
      "  Using cached SQLAlchemy-2.0.38-cp39-cp39-win_amd64.whl (2.1 MB)\n",
      "Collecting twilio>=9.4.5\n",
      "  Using cached twilio-9.4.5-py2.py3-none-any.whl (1.9 MB)\n",
      "Requirement already satisfied: pytz>=2023.3.0 in c:\\users\\dhiraj bhatkar\\anaconda3\\lib\\site-packages (from -r requirements.txt (line 7)) (2025.1)\n",
      "Requirement already satisfied: streamlit>=1.12.0 in c:\\users\\dhiraj bhatkar\\anaconda3\\lib\\site-packages (from -r requirements.txt (line 8)) (1.12.0)\n",
      "Collecting google-auth>=1.12.0\n",
      "  Using cached google_auth-2.38.0-py2.py3-none-any.whl (210 kB)\n",
      "Collecting google-auth-oauthlib>=0.4.1\n",
      "  Using cached google_auth_oauthlib-1.2.1-py2.py3-none-any.whl (24 kB)\n",
      "Requirement already satisfied: six>=1.6.1 in c:\\users\\dhiraj bhatkar\\anaconda3\\lib\\site-packages (from oauth2client>=4.1.3->-r requirements.txt (line 2)) (1.17.0)\n",
      "Requirement already satisfied: pyasn1-modules>=0.0.5 in c:\\users\\dhiraj bhatkar\\anaconda3\\lib\\site-packages (from oauth2client>=4.1.3->-r requirements.txt (line 2)) (0.4.1)\n",
      "Collecting httplib2>=0.9.1\n",
      "  Using cached httplib2-0.22.0-py3-none-any.whl (96 kB)\n",
      "Requirement already satisfied: pyasn1>=0.1.7 in c:\\users\\dhiraj bhatkar\\anaconda3\\lib\\site-packages (from oauth2client>=4.1.3->-r requirements.txt (line 2)) (0.6.1)\n",
      "Requirement already satisfied: rsa>=3.1.4 in c:\\users\\dhiraj bhatkar\\anaconda3\\lib\\site-packages (from oauth2client>=4.1.3->-r requirements.txt (line 2)) (4.9)\n",
      "Requirement already satisfied: packaging in c:\\users\\dhiraj bhatkar\\anaconda3\\lib\\site-packages (from plotly>=6.0.0->-r requirements.txt (line 3)) (21.0)\n",
      "Requirement already satisfied: narwhals>=1.15.1 in c:\\users\\dhiraj bhatkar\\anaconda3\\lib\\site-packages (from plotly>=6.0.0->-r requirements.txt (line 3)) (1.26.0)\n",
      "Requirement already satisfied: typing-extensions>=4.6.0 in c:\\users\\dhiraj bhatkar\\anaconda3\\lib\\site-packages (from sqlalchemy>=2.0.38->-r requirements.txt (line 5)) (4.12.2)\n",
      "Requirement already satisfied: greenlet!=0.4.17 in c:\\users\\dhiraj bhatkar\\anaconda3\\lib\\site-packages (from sqlalchemy>=2.0.38->-r requirements.txt (line 5)) (1.1.1)\n",
      "Requirement already satisfied: requests>=2.0.0 in c:\\users\\dhiraj bhatkar\\anaconda3\\lib\\site-packages (from twilio>=9.4.5->-r requirements.txt (line 6)) (2.26.0)\n",
      "Collecting aiohttp-retry>=2.8.3\n",
      "  Using cached aiohttp_retry-2.9.1-py3-none-any.whl (10.0 kB)\n",
      "Requirement already satisfied: PyJWT<3.0.0,>=2.0.0 in c:\\users\\dhiraj bhatkar\\anaconda3\\lib\\site-packages (from twilio>=9.4.5->-r requirements.txt (line 6)) (2.1.0)\n",
      "Collecting aiohttp>=3.8.4\n",
      "  Using cached aiohttp-3.11.12-cp39-cp39-win_amd64.whl (442 kB)\n",
      "Requirement already satisfied: click>=7.0 in c:\\users\\dhiraj bhatkar\\anaconda3\\lib\\site-packages (from streamlit>=1.12.0->-r requirements.txt (line 8)) (8.0.3)\n",
      "Requirement already satisfied: numpy in c:\\users\\dhiraj bhatkar\\anaconda3\\lib\\site-packages (from streamlit>=1.12.0->-r requirements.txt (line 8)) (2.0.2)\n",
      "Requirement already satisfied: tzlocal>=1.1 in c:\\users\\dhiraj bhatkar\\anaconda3\\lib\\site-packages (from streamlit>=1.12.0->-r requirements.txt (line 8)) (5.3)\n",
      "Requirement already satisfied: watchdog in c:\\users\\dhiraj bhatkar\\anaconda3\\lib\\site-packages (from streamlit>=1.12.0->-r requirements.txt (line 8)) (2.1.3)\n",
      "Requirement already satisfied: pandas>=0.21.0 in c:\\users\\dhiraj bhatkar\\anaconda3\\lib\\site-packages (from streamlit>=1.12.0->-r requirements.txt (line 8)) (2.2.3)\n",
      "Requirement already satisfied: pydeck>=0.1.dev5 in c:\\users\\dhiraj bhatkar\\anaconda3\\lib\\site-packages (from streamlit>=1.12.0->-r requirements.txt (line 8)) (0.9.1)\n",
      "Requirement already satisfied: semver in c:\\users\\dhiraj bhatkar\\anaconda3\\lib\\site-packages (from streamlit>=1.12.0->-r requirements.txt (line 8)) (3.0.4)\n",
      "Requirement already satisfied: toml in c:\\users\\dhiraj bhatkar\\anaconda3\\lib\\site-packages (from streamlit>=1.12.0->-r requirements.txt (line 8)) (0.10.2)\n",
      "Requirement already satisfied: tornado>=5.0 in c:\\users\\dhiraj bhatkar\\anaconda3\\lib\\site-packages (from streamlit>=1.12.0->-r requirements.txt (line 8)) (6.1)\n",
      "Requirement already satisfied: validators>=0.2 in c:\\users\\dhiraj bhatkar\\anaconda3\\lib\\site-packages (from streamlit>=1.12.0->-r requirements.txt (line 8)) (0.34.0)\n",
      "Requirement already satisfied: pyarrow>=4.0 in c:\\users\\dhiraj bhatkar\\anaconda3\\lib\\site-packages (from streamlit>=1.12.0->-r requirements.txt (line 8)) (19.0.0)\n",
      "Requirement already satisfied: altair>=3.2.0 in c:\\users\\dhiraj bhatkar\\anaconda3\\lib\\site-packages (from streamlit>=1.12.0->-r requirements.txt (line 8)) (4.2.2)\n",
      "Requirement already satisfied: pillow>=6.2.0 in c:\\users\\dhiraj bhatkar\\anaconda3\\lib\\site-packages (from streamlit>=1.12.0->-r requirements.txt (line 8)) (8.4.0)\n",
      "Requirement already satisfied: protobuf<4,>=3.12 in c:\\users\\dhiraj bhatkar\\anaconda3\\lib\\site-packages (from streamlit>=1.12.0->-r requirements.txt (line 8)) (3.20.3)\n",
      "Requirement already satisfied: blinker>=1.0.0 in c:\\users\\dhiraj bhatkar\\anaconda3\\lib\\site-packages (from streamlit>=1.12.0->-r requirements.txt (line 8)) (1.9.0)\n",
      "Requirement already satisfied: cachetools>=4.0 in c:\\users\\dhiraj bhatkar\\anaconda3\\lib\\site-packages (from streamlit>=1.12.0->-r requirements.txt (line 8)) (5.5.1)\n",
      "Requirement already satisfied: gitpython!=3.1.19 in c:\\users\\dhiraj bhatkar\\anaconda3\\lib\\site-packages (from streamlit>=1.12.0->-r requirements.txt (line 8)) (3.1.44)\n",
      "Requirement already satisfied: pympler>=0.9 in c:\\users\\dhiraj bhatkar\\anaconda3\\lib\\site-packages (from streamlit>=1.12.0->-r requirements.txt (line 8)) (1.1)\n",
      "Requirement already satisfied: python-dateutil in c:\\users\\dhiraj bhatkar\\anaconda3\\lib\\site-packages (from streamlit>=1.12.0->-r requirements.txt (line 8)) (2.9.0.post0)\n",
      "Requirement already satisfied: importlib-metadata>=1.4 in c:\\users\\dhiraj bhatkar\\anaconda3\\lib\\site-packages (from streamlit>=1.12.0->-r requirements.txt (line 8)) (4.8.1)\n",
      "Requirement already satisfied: rich>=10.11.0 in c:\\users\\dhiraj bhatkar\\anaconda3\\lib\\site-packages (from streamlit>=1.12.0->-r requirements.txt (line 8)) (13.9.4)\n",
      "Requirement already satisfied: aiosignal>=1.1.2 in c:\\users\\dhiraj bhatkar\\anaconda3\\lib\\site-packages (from aiohttp>=3.8.4->twilio>=9.4.5->-r requirements.txt (line 6)) (1.3.2)\n",
      "Requirement already satisfied: yarl<2.0,>=1.17.0 in c:\\users\\dhiraj bhatkar\\anaconda3\\lib\\site-packages (from aiohttp>=3.8.4->twilio>=9.4.5->-r requirements.txt (line 6)) (1.18.3)\n",
      "Requirement already satisfied: frozenlist>=1.1.1 in c:\\users\\dhiraj bhatkar\\anaconda3\\lib\\site-packages (from aiohttp>=3.8.4->twilio>=9.4.5->-r requirements.txt (line 6)) (1.5.0)\n",
      "Requirement already satisfied: attrs>=17.3.0 in c:\\users\\dhiraj bhatkar\\anaconda3\\lib\\site-packages (from aiohttp>=3.8.4->twilio>=9.4.5->-r requirements.txt (line 6)) (21.2.0)\n",
      "Requirement already satisfied: aiohappyeyeballs>=2.3.0 in c:\\users\\dhiraj bhatkar\\anaconda3\\lib\\site-packages (from aiohttp>=3.8.4->twilio>=9.4.5->-r requirements.txt (line 6)) (2.4.6)\n",
      "Requirement already satisfied: multidict<7.0,>=4.5 in c:\\users\\dhiraj bhatkar\\anaconda3\\lib\\site-packages (from aiohttp>=3.8.4->twilio>=9.4.5->-r requirements.txt (line 6)) (6.1.0)\n",
      "Requirement already satisfied: async-timeout<6.0,>=4.0 in c:\\users\\dhiraj bhatkar\\anaconda3\\lib\\site-packages (from aiohttp>=3.8.4->twilio>=9.4.5->-r requirements.txt (line 6)) (5.0.1)\n",
      "Requirement already satisfied: propcache>=0.2.0 in c:\\users\\dhiraj bhatkar\\anaconda3\\lib\\site-packages (from aiohttp>=3.8.4->twilio>=9.4.5->-r requirements.txt (line 6)) (0.2.1)\n",
      "Requirement already satisfied: jinja2 in c:\\users\\dhiraj bhatkar\\appdata\\roaming\\python\\python39\\site-packages (from altair>=3.2.0->streamlit>=1.12.0->-r requirements.txt (line 8)) (3.1.5)\n",
      "Requirement already satisfied: toolz in c:\\users\\dhiraj bhatkar\\anaconda3\\lib\\site-packages (from altair>=3.2.0->streamlit>=1.12.0->-r requirements.txt (line 8)) (0.11.1)\n",
      "Requirement already satisfied: entrypoints in c:\\users\\dhiraj bhatkar\\anaconda3\\lib\\site-packages (from altair>=3.2.0->streamlit>=1.12.0->-r requirements.txt (line 8)) (0.3)\n",
      "Requirement already satisfied: jsonschema>=3.0 in c:\\users\\dhiraj bhatkar\\anaconda3\\lib\\site-packages (from altair>=3.2.0->streamlit>=1.12.0->-r requirements.txt (line 8)) (3.2.0)\n",
      "Requirement already satisfied: colorama in c:\\users\\dhiraj bhatkar\\anaconda3\\lib\\site-packages (from click>=7.0->streamlit>=1.12.0->-r requirements.txt (line 8)) (0.4.4)\n",
      "Requirement already satisfied: gitdb<5,>=4.0.1 in c:\\users\\dhiraj bhatkar\\anaconda3\\lib\\site-packages (from gitpython!=3.1.19->streamlit>=1.12.0->-r requirements.txt (line 8)) (4.0.12)\n",
      "Requirement already satisfied: smmap<6,>=3.0.1 in c:\\users\\dhiraj bhatkar\\anaconda3\\lib\\site-packages (from gitdb<5,>=4.0.1->gitpython!=3.1.19->streamlit>=1.12.0->-r requirements.txt (line 8)) (5.0.2)\n",
      "Requirement already satisfied: requests-oauthlib>=0.7.0 in c:\\users\\dhiraj bhatkar\\anaconda3\\lib\\site-packages (from google-auth-oauthlib>=0.4.1->gspread>=6.1.4->-r requirements.txt (line 1)) (2.0.0)\n",
      "Requirement already satisfied: pyparsing!=3.0.0,!=3.0.1,!=3.0.2,!=3.0.3,<4,>=2.4.2 in c:\\users\\dhiraj bhatkar\\anaconda3\\lib\\site-packages (from httplib2>=0.9.1->oauth2client>=4.1.3->-r requirements.txt (line 2)) (3.0.4)\n",
      "Requirement already satisfied: zipp>=0.5 in c:\\users\\dhiraj bhatkar\\anaconda3\\lib\\site-packages (from importlib-metadata>=1.4->streamlit>=1.12.0->-r requirements.txt (line 8)) (3.6.0)\n",
      "Requirement already satisfied: pyrsistent>=0.14.0 in c:\\users\\dhiraj bhatkar\\anaconda3\\lib\\site-packages (from jsonschema>=3.0->altair>=3.2.0->streamlit>=1.12.0->-r requirements.txt (line 8)) (0.18.0)\n",
      "Requirement already satisfied: setuptools in c:\\users\\dhiraj bhatkar\\anaconda3\\lib\\site-packages (from jsonschema>=3.0->altair>=3.2.0->streamlit>=1.12.0->-r requirements.txt (line 8)) (58.0.4)\n",
      "Requirement already satisfied: tzdata>=2022.7 in c:\\users\\dhiraj bhatkar\\anaconda3\\lib\\site-packages (from pandas>=0.21.0->streamlit>=1.12.0->-r requirements.txt (line 8)) (2025.1)\n",
      "Requirement already satisfied: MarkupSafe>=2.0 in c:\\users\\dhiraj bhatkar\\anaconda3\\lib\\site-packages (from jinja2->altair>=3.2.0->streamlit>=1.12.0->-r requirements.txt (line 8)) (3.0.2)\n",
      "Requirement already satisfied: pywin32>=226 in c:\\users\\dhiraj bhatkar\\anaconda3\\lib\\site-packages (from pympler>=0.9->streamlit>=1.12.0->-r requirements.txt (line 8)) (228)\n",
      "Requirement already satisfied: certifi>=2017.4.17 in c:\\users\\dhiraj bhatkar\\anaconda3\\lib\\site-packages (from requests>=2.0.0->twilio>=9.4.5->-r requirements.txt (line 6)) (2021.10.8)\n",
      "Requirement already satisfied: urllib3<1.27,>=1.21.1 in c:\\users\\dhiraj bhatkar\\anaconda3\\lib\\site-packages (from requests>=2.0.0->twilio>=9.4.5->-r requirements.txt (line 6)) (1.26.7)\n",
      "Requirement already satisfied: idna<4,>=2.5 in c:\\users\\dhiraj bhatkar\\anaconda3\\lib\\site-packages (from requests>=2.0.0->twilio>=9.4.5->-r requirements.txt (line 6)) (3.2)\n",
      "Requirement already satisfied: charset-normalizer~=2.0.0 in c:\\users\\dhiraj bhatkar\\anaconda3\\lib\\site-packages (from requests>=2.0.0->twilio>=9.4.5->-r requirements.txt (line 6)) (2.0.4)\n",
      "Requirement already satisfied: oauthlib>=3.0.0 in c:\\users\\dhiraj bhatkar\\anaconda3\\lib\\site-packages (from requests-oauthlib>=0.7.0->google-auth-oauthlib>=0.4.1->gspread>=6.1.4->-r requirements.txt (line 1)) (3.2.2)\n",
      "Requirement already satisfied: pygments<3.0.0,>=2.13.0 in c:\\users\\dhiraj bhatkar\\anaconda3\\lib\\site-packages (from rich>=10.11.0->streamlit>=1.12.0->-r requirements.txt (line 8)) (2.19.1)\n",
      "Requirement already satisfied: markdown-it-py>=2.2.0 in c:\\users\\dhiraj bhatkar\\anaconda3\\lib\\site-packages (from rich>=10.11.0->streamlit>=1.12.0->-r requirements.txt (line 8)) (3.0.0)\n",
      "Requirement already satisfied: mdurl~=0.1 in c:\\users\\dhiraj bhatkar\\anaconda3\\lib\\site-packages (from markdown-it-py>=2.2.0->rich>=10.11.0->streamlit>=1.12.0->-r requirements.txt (line 8)) (0.1.2)\n",
      "Installing collected packages: google-auth, aiohttp, httplib2, google-auth-oauthlib, aiohttp-retry, twilio, sqlalchemy, psycopg2-binary, plotly, oauth2client, gspread\n",
      "  Attempting uninstall: sqlalchemy\n",
      "    Found existing installation: SQLAlchemy 1.4.22\n",
      "    Uninstalling SQLAlchemy-1.4.22:\n",
      "      Successfully uninstalled SQLAlchemy-1.4.22\n",
      "  Attempting uninstall: psycopg2-binary\n",
      "    Found existing installation: psycopg2-binary 2.9.3\n",
      "    Uninstalling psycopg2-binary-2.9.3:\n",
      "      Successfully uninstalled psycopg2-binary-2.9.3\n",
      "Successfully installed aiohttp-3.11.12 aiohttp-retry-2.9.1 google-auth-2.38.0 google-auth-oauthlib-1.2.1 gspread-6.1.4 httplib2-0.22.0 oauth2client-4.1.3 plotly-6.0.0 psycopg2-binary-2.9.10 sqlalchemy-2.0.38 twilio-9.4.5\n",
      "Note: you may need to restart the kernel to use updated packages.\n"
     ]
    }
   ],
   "source": [
    "pip install -r requirements.txt"
   ]
  },
  {
   "cell_type": "code",
   "execution_count": 10,
   "id": "f1c4d61e",
   "metadata": {},
   "outputs": [
    {
     "name": "stdout",
     "output_type": "stream",
     "text": [
      "Python 3.9.7\n"
     ]
    }
   ],
   "source": [
    "!python --version\n"
   ]
  },
  {
   "cell_type": "code",
   "execution_count": 11,
   "id": "75c039a9",
   "metadata": {},
   "outputs": [
    {
     "name": "stdout",
     "output_type": "stream",
     "text": [
      "Requirement already satisfied: pip in c:\\users\\dhiraj bhatkar\\anaconda3\\lib\\site-packages (21.2.4)\n",
      "Collecting pip\n",
      "  Downloading pip-25.0.1-py3-none-any.whl (1.8 MB)\n",
      "Installing collected packages: pip\n",
      "  Attempting uninstall: pip\n",
      "    Found existing installation: pip 21.2.4\n",
      "    Uninstalling pip-21.2.4:\n",
      "      Successfully uninstalled pip-21.2.4\n",
      "Successfully installed pip-25.0.1\n",
      "Note: you may need to restart the kernel to use updated packages.\n"
     ]
    }
   ],
   "source": [
    "pip install --upgrade pip\n"
   ]
  },
  {
   "cell_type": "code",
   "execution_count": 2,
   "id": "020eca52",
   "metadata": {},
   "outputs": [
    {
     "name": "stdout",
     "output_type": "stream",
     "text": [
      "Note: you may need to restart the kernel to use updated packages.\n"
     ]
    },
    {
     "name": "stderr",
     "output_type": "stream",
     "text": [
      "ERROR: Could not find a version that satisfies the requirement streamlit==1.42.0 (from versions: 0.1, 0.2, 0.3, 0.4, 0.5, 0.6, 0.7, 0.8, 0.8.2, 0.9.0, 0.11.0, 0.12.2, 0.12.3, 0.12.4, 0.13.0, 0.13.1, 0.13.3, 0.13.5, 0.14.2, 0.15.0, 0.15.1, 0.15.2, 0.15.3, 0.15.4, 0.15.5, 0.15.6, 0.16.0, 0.16.1, 0.16.2, 0.16.3, 0.17.0, 0.17.1, 0.17.2, 0.18.0, 0.18.1, 0.19.0, 0.19.1, 0.20.0, 0.21.0, 0.22.0, 0.22.1, 0.22.2, 0.23.0, 0.24.0, 0.24.1, 0.24.2, 0.24.3, 0.25.0, 0.26.0, 0.26.1, 0.27.0, 0.28.0, 0.29.0, 0.30.0, 0.31.0, 0.32.0, 0.33.0, 0.34.0, 0.35.0, 0.36.0, 0.37.0, 0.40.0, 0.40.1, 0.41.0, 0.42.0, 0.43.0, 0.43.1, 0.43.2, 0.44.0, 0.45.0, 0.46.0, 0.47.0, 0.47.1, 0.47.2, 0.47.3, 0.47.4, 0.48.0, 0.48.1, 0.49.0, 0.50.0, 0.50.1, 0.50.2, 0.51.0, 0.52.0, 0.52.1, 0.52.2, 0.53.0, 0.54.0, 0.55.0, 0.56.0, 0.57.0, 0.57.1, 0.57.2, 0.57.3, 0.58.0, 0.59.0, 0.60.0, 0.61.0, 0.62.0, 0.62.1, 0.63.0, 0.63.1, 0.64.0, 0.65.0, 0.65.1, 0.65.2, 0.66.0, 0.67.0, 0.67.1, 0.68.0, 0.68.1, 0.69.0, 0.69.1, 0.69.2, 0.70.0, 0.71.0, 0.72.0, 0.73.0, 0.73.1, 0.74.0, 0.74.1, 0.75.0, 0.76.0, 0.77.0, 0.78.0, 0.79.0, 0.80.0, 0.81.0, 0.81.1, 0.82.0, 0.83.0, 0.84.0, 0.84.1, 0.84.2, 0.85.0, 0.85.1, 0.86.0, 0.87.0, 0.88.0, 0.89.0, 1.0.0, 1.1.0, 1.2.0, 1.3.0, 1.3.1, 1.4.0, 1.5.0, 1.5.1, 1.6.0rc3, 1.6.0rc4, 1.6.0, 1.7.0, 1.8.0rc1, 1.8.0, 1.8.1rc1, 1.8.1, 1.9.0rc1, 1.9.0, 1.9.1rc1, 1.9.1rc2, 1.9.1, 1.9.2rc1, 1.9.2, 1.10.0rc1, 1.10.0rc2, 1.10.0, 1.11.0rc1, 1.11.0, 1.11.1rc1, 1.11.1, 1.12.0rc1, 1.12.0rc2, 1.12.0)\n",
      "ERROR: No matching distribution found for streamlit==1.42.0\n"
     ]
    }
   ],
   "source": [
    "pip install streamlit==1.42.0\n"
   ]
  },
  {
   "cell_type": "code",
   "execution_count": 1,
   "id": "f4ef95d8",
   "metadata": {},
   "outputs": [
    {
     "name": "stdout",
     "output_type": "stream",
     "text": [
      "pip 25.0.1 from C:\\Users\\Dhiraj Bhatkar\\anaconda3\\lib\\site-packages\\pip (python 3.9)\n",
      "\n",
      "Note: you may need to restart the kernel to use updated packages.\n"
     ]
    }
   ],
   "source": [
    "pip --version"
   ]
  },
  {
   "cell_type": "code",
   "execution_count": 3,
   "id": "145b1b16",
   "metadata": {},
   "outputs": [
    {
     "name": "stderr",
     "output_type": "stream",
     "text": [
      "ERROR: Could not find a version that satisfies the requirement streamlit==1.42.0 (from versions: 0.1, 0.2, 0.3, 0.4, 0.5, 0.6, 0.7, 0.8, 0.8.2, 0.9.0, 0.11.0, 0.12.2, 0.12.3, 0.12.4, 0.13.0, 0.13.1, 0.13.3, 0.13.5, 0.14.2, 0.15.0, 0.15.1, 0.15.2, 0.15.3, 0.15.4, 0.15.5, 0.15.6, 0.16.0, 0.16.1, 0.16.2, 0.16.3, 0.17.0, 0.17.1, 0.17.2, 0.18.0, 0.18.1, 0.19.0, 0.19.1, 0.20.0, 0.21.0, 0.22.0, 0.22.1, 0.22.2, 0.23.0, 0.24.0, 0.24.1, 0.24.2, 0.24.3, 0.25.0, 0.26.0, 0.26.1, 0.27.0, 0.28.0, 0.29.0, 0.30.0, 0.31.0, 0.32.0, 0.33.0, 0.34.0, 0.35.0, 0.36.0, 0.37.0, 0.40.0, 0.40.1, 0.41.0, 0.42.0, 0.43.0, 0.43.1, 0.43.2, 0.44.0, 0.45.0, 0.46.0, 0.47.0, 0.47.1, 0.47.2, 0.47.3, 0.47.4, 0.48.0, 0.48.1, 0.49.0, 0.50.0, 0.50.1, 0.50.2, 0.51.0, 0.52.0, 0.52.1, 0.52.2, 0.53.0, 0.54.0, 0.55.0, 0.56.0, 0.57.0, 0.57.1, 0.57.2, 0.57.3, 0.58.0, 0.59.0, 0.60.0, 0.61.0, 0.62.0, 0.62.1, 0.63.0, 0.63.1, 0.64.0, 0.65.0, 0.65.1, 0.65.2, 0.66.0, 0.67.0, 0.67.1, 0.68.0, 0.68.1, 0.69.0, 0.69.1, 0.69.2, 0.70.0, 0.71.0, 0.72.0, 0.73.0, 0.73.1, 0.74.0, 0.74.1, 0.75.0, 0.76.0, 0.77.0, 0.78.0, 0.79.0, 0.80.0, 0.81.0, 0.81.1, 0.82.0, 0.83.0, 0.84.0, 0.84.1, 0.84.2, 0.85.0, 0.85.1, 0.86.0, 0.87.0, 0.88.0, 0.89.0, 1.0.0, 1.1.0, 1.2.0, 1.3.0, 1.3.1, 1.4.0, 1.5.0, 1.5.1, 1.6.0rc3, 1.6.0rc4, 1.6.0, 1.7.0, 1.8.0rc1, 1.8.0, 1.8.1rc1, 1.8.1, 1.9.0rc1, 1.9.0, 1.9.1rc1, 1.9.1rc2, 1.9.1, 1.9.2rc1, 1.9.2, 1.10.0rc1, 1.10.0rc2, 1.10.0, 1.11.0rc1, 1.11.0, 1.11.1rc1, 1.11.1, 1.12.0rc1, 1.12.0rc2, 1.12.0)\n",
      "ERROR: No matching distribution found for streamlit==1.42.0\n"
     ]
    }
   ],
   "source": [
    "!python -m pip install streamlit==1.42.0\n"
   ]
  },
  {
   "cell_type": "code",
   "execution_count": null,
   "id": "506a4f10",
   "metadata": {},
   "outputs": [],
   "source": []
  }
 ],
 "metadata": {
  "kernelspec": {
   "display_name": "Python 3 (ipykernel)",
   "language": "python",
   "name": "python3"
  },
  "language_info": {
   "codemirror_mode": {
    "name": "ipython",
    "version": 3
   },
   "file_extension": ".py",
   "mimetype": "text/x-python",
   "name": "python",
   "nbconvert_exporter": "python",
   "pygments_lexer": "ipython3",
   "version": "3.9.7"
  }
 },
 "nbformat": 4,
 "nbformat_minor": 5
}
